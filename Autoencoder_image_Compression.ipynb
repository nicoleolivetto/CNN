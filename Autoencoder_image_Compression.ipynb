{
  "nbformat": 4,
  "nbformat_minor": 0,
  "metadata": {
    "colab": {
      "provenance": [],
      "gpuType": "T4",
      "authorship_tag": "ABX9TyNKPyH27AGzo+dJahIohy5r",
      "include_colab_link": true
    },
    "kernelspec": {
      "name": "python3",
      "display_name": "Python 3"
    },
    "language_info": {
      "name": "python"
    },
    "accelerator": "GPU"
  },
  "cells": [
    {
      "cell_type": "markdown",
      "metadata": {
        "id": "view-in-github",
        "colab_type": "text"
      },
      "source": [
        "<a href=\"https://colab.research.google.com/github/nicoleolivetto/CNN/blob/main/Autoencoder_image_Compression.ipynb\" target=\"_parent\"><img src=\"https://colab.research.google.com/assets/colab-badge.svg\" alt=\"Open In Colab\"/></a>"
      ]
    },
    {
      "cell_type": "code",
      "execution_count": 1,
      "metadata": {
        "id": "01Il6sAf65WJ"
      },
      "outputs": [],
      "source": [
        "import numpy as np\n",
        "import matplotlib.pyplot as plt\n",
        "from keras import Sequential\n",
        "from keras.layers import Dense, Conv2D, MaxPooling2D, UpSampling2D\n",
        "from keras.datasets import mnist"
      ]
    },
    {
      "cell_type": "markdown",
      "source": [
        "Load the dataset"
      ],
      "metadata": {
        "id": "yLoVzefd7Qvj"
      }
    },
    {
      "cell_type": "code",
      "source": [
        "(x_train, _), (x_test, _) = mnist.load_data()"
      ],
      "metadata": {
        "colab": {
          "base_uri": "https://localhost:8080/"
        },
        "id": "Z_RY7vW57OGz",
        "outputId": "8c1cd03b-f1f6-4b33-ec76-e532d874b155"
      },
      "execution_count": 2,
      "outputs": [
        {
          "output_type": "stream",
          "name": "stdout",
          "text": [
            "Downloading data from https://storage.googleapis.com/tensorflow/tf-keras-datasets/mnist.npz\n",
            "11490434/11490434 [==============================] - 0s 0us/step\n"
          ]
        }
      ]
    },
    {
      "cell_type": "code",
      "source": [
        "# normalize the image data\n",
        "x_train = x_train.astype('float32') / 255\n",
        "x_test = x_test.astype('float32') / 255"
      ],
      "metadata": {
        "id": "7eKhmrbe7S_3"
      },
      "execution_count": 3,
      "outputs": []
    },
    {
      "cell_type": "code",
      "source": [
        "# reshape in the input data for the model\n",
        "x_train = x_train.reshape(len(x_train), 28, 28, 1)\n",
        "x_test = x_test.reshape(len(x_test), 28, 28, 1)\n",
        "x_test.shape"
      ],
      "metadata": {
        "colab": {
          "base_uri": "https://localhost:8080/"
        },
        "id": "GjUuQbNn7YM_",
        "outputId": "08379e74-61f8-4ef6-a800-617b797d02f8"
      },
      "execution_count": 4,
      "outputs": [
        {
          "output_type": "execute_result",
          "data": {
            "text/plain": [
              "(10000, 28, 28, 1)"
            ]
          },
          "metadata": {},
          "execution_count": 4
        }
      ]
    },
    {
      "cell_type": "code",
      "source": [
        "# randomly select input image\n",
        "index = np.random.randint(len(x_test))\n",
        "# plot the image\n",
        "plt.imshow(x_test[index].reshape(28,28))\n",
        "plt.gray()"
      ],
      "metadata": {
        "colab": {
          "base_uri": "https://localhost:8080/",
          "height": 430
        },
        "id": "ic9c41Gd7Zaa",
        "outputId": "38efe25f-a50f-4be8-c7eb-656eb59e332c"
      },
      "execution_count": 5,
      "outputs": [
        {
          "output_type": "display_data",
          "data": {
            "text/plain": [
              "<Figure size 640x480 with 1 Axes>"
            ],
            "image/png": "[encoded data removed]"
          },
          "metadata": {}
        }
      ]
    },
    {
      "cell_type": "markdown",
      "source": [
        "Model creation"
      ],
      "metadata": {
        "id": "7yueXhnz7ljB"
      }
    },
    {
      "cell_type": "code",
      "source": [
        "\n",
        "model = Sequential([\n",
        "                    # encoder network\n",
        "                    Conv2D(32, 3, activation='relu', padding='same', input_shape=(28, 28, 1)),\n",
        "                    MaxPooling2D(2, padding='same'),\n",
        "                    Conv2D(16, 3, activation='relu', padding='same'),\n",
        "                    MaxPooling2D(2, padding='same'),\n",
        "                    # decoder network\n",
        "                    Conv2D(16, 3, activation='relu', padding='same'),\n",
        "                    UpSampling2D(2),\n",
        "                    Conv2D(32, 3, activation='relu', padding='same'),\n",
        "                    UpSampling2D(2),\n",
        "                    # output layer\n",
        "                    Conv2D(1, 3, activation='sigmoid', padding='same')\n",
        "])\n",
        "\n",
        "model.compile(optimizer='adam', loss='binary_crossentropy')\n",
        "model.summary()"
      ],
      "metadata": {
        "colab": {
          "base_uri": "https://localhost:8080/"
        },
        "id": "hXRqwH507pI6",
        "outputId": "6364df8c-b1c7-40eb-c27d-653850cd660a"
      },
      "execution_count": 6,
      "outputs": [
        {
          "output_type": "stream",
          "name": "stdout",
          "text": [
            "Model: \"sequential\"\n",
            "_________________________________________________________________\n",
            " Layer (type)                Output Shape              Param #   \n",
            "=================================================================\n",
            " conv2d (Conv2D)             (None, 28, 28, 32)        320       \n",
            "                                                                 \n",
            " max_pooling2d (MaxPooling2  (None, 14, 14, 32)        0         \n",
            " D)                                                              \n",
            "                                                                 \n",
            " conv2d_1 (Conv2D)           (None, 14, 14, 16)        4624      \n",
            "                                                                 \n",
            " max_pooling2d_1 (MaxPoolin  (None, 7, 7, 16)          0         \n",
            " g2D)                                                            \n",
            "                                                                 \n",
            " conv2d_2 (Conv2D)           (None, 7, 7, 16)          2320      \n",
            "                                                                 \n",
            " up_sampling2d (UpSampling2  (None, 14, 14, 16)        0         \n",
            " D)                                                              \n",
            "                                                                 \n",
            " conv2d_3 (Conv2D)           (None, 14, 14, 32)        4640      \n",
            "                                                                 \n",
            " up_sampling2d_1 (UpSamplin  (None, 28, 28, 32)        0         \n",
            " g2D)                                                            \n",
            "                                                                 \n",
            " conv2d_4 (Conv2D)           (None, 28, 28, 1)         289       \n",
            "                                                                 \n",
            "=================================================================\n",
            "Total params: 12193 (47.63 KB)\n",
            "Trainable params: 12193 (47.63 KB)\n",
            "Non-trainable params: 0 (0.00 Byte)\n",
            "_________________________________________________________________\n"
          ]
        }
      ]
    },
    {
      "cell_type": "code",
      "source": [
        "# train the model\n",
        "model.fit(x_train, x_train, epochs=20, batch_size=256, validation_data=(x_test, x_test))"
      ],
      "metadata": {
        "colab": {
          "base_uri": "https://localhost:8080/"
        },
        "id": "qEhEfxdk7vIG",
        "outputId": "3cd3450a-752e-4157-dd2a-8282e421b704"
      },
      "execution_count": 7,
      "outputs": [
        {
          "output_type": "stream",
          "name": "stdout",
          "text": [
            "Epoch 1/20\n",
            "235/235 [==============================] - 14s 12ms/step - loss: 0.1643 - val_loss: 0.0876\n",
            "Epoch 2/20\n",
            "235/235 [==============================] - 2s 10ms/step - loss: 0.0833 - val_loss: 0.0787\n",
            "Epoch 3/20\n",
            "235/235 [==============================] - 2s 10ms/step - loss: 0.0776 - val_loss: 0.0752\n",
            "Epoch 4/20\n",
            "235/235 [==============================] - 2s 9ms/step - loss: 0.0751 - val_loss: 0.0736\n",
            "Epoch 5/20\n",
            "235/235 [==============================] - 2s 10ms/step - loss: 0.0737 - val_loss: 0.0724\n",
            "Epoch 6/20\n",
            "235/235 [==============================] - 3s 11ms/step - loss: 0.0726 - val_loss: 0.0718\n",
            "Epoch 7/20\n",
            "235/235 [==============================] - 2s 9ms/step - loss: 0.0718 - val_loss: 0.0708\n",
            "Epoch 8/20\n",
            "235/235 [==============================] - 2s 10ms/step - loss: 0.0712 - val_loss: 0.0703\n",
            "Epoch 9/20\n",
            "235/235 [==============================] - 2s 9ms/step - loss: 0.0707 - val_loss: 0.0700\n",
            "Epoch 10/20\n",
            "235/235 [==============================] - 2s 10ms/step - loss: 0.0703 - val_loss: 0.0695\n",
            "Epoch 11/20\n",
            "235/235 [==============================] - 2s 10ms/step - loss: 0.0700 - val_loss: 0.0692\n",
            "Epoch 12/20\n",
            "235/235 [==============================] - 2s 10ms/step - loss: 0.0697 - val_loss: 0.0690\n",
            "Epoch 13/20\n",
            "235/235 [==============================] - 2s 9ms/step - loss: 0.0694 - val_loss: 0.0688\n",
            "Epoch 14/20\n",
            "235/235 [==============================] - 2s 9ms/step - loss: 0.0692 - val_loss: 0.0689\n",
            "Epoch 15/20\n",
            "235/235 [==============================] - 2s 9ms/step - loss: 0.0690 - val_loss: 0.0683\n",
            "Epoch 16/20\n",
            "235/235 [==============================] - 2s 10ms/step - loss: 0.0688 - val_loss: 0.0682\n",
            "Epoch 17/20\n",
            "235/235 [==============================] - 2s 10ms/step - loss: 0.0686 - val_loss: 0.0682\n",
            "Epoch 18/20\n",
            "235/235 [==============================] - 3s 11ms/step - loss: 0.0685 - val_loss: 0.0678\n",
            "Epoch 19/20\n",
            "235/235 [==============================] - 2s 10ms/step - loss: 0.0683 - val_loss: 0.0677\n",
            "Epoch 20/20\n",
            "235/235 [==============================] - 2s 9ms/step - loss: 0.0681 - val_loss: 0.0676\n"
          ]
        },
        {
          "output_type": "execute_result",
          "data": {
            "text/plain": [
              "<keras.src.callbacks.History at 0x7ed81030ff40>"
            ]
          },
          "metadata": {},
          "execution_count": 7
        }
      ]
    },
    {
      "cell_type": "markdown",
      "source": [
        "Visualize the results"
      ],
      "metadata": {
        "id": "qqo6Bqml8wp5"
      }
    },
    {
      "cell_type": "code",
      "source": [
        "# predict the results from model (get compressed images)\n",
        "pred = model.predict(x_test)"
      ],
      "metadata": {
        "colab": {
          "base_uri": "https://localhost:8080/"
        },
        "id": "qzNlvUaj8uWg",
        "outputId": "390f9ed1-c369-42be-f96f-e741e7b42df1"
      },
      "execution_count": 8,
      "outputs": [
        {
          "output_type": "stream",
          "name": "stdout",
          "text": [
            "313/313 [==============================] - 1s 2ms/step\n"
          ]
        }
      ]
    },
    {
      "cell_type": "code",
      "source": [
        "# randomly select input image\n",
        "index = np.random.randint(len(x_test))\n",
        "# plot the image\n",
        "plt.imshow(x_test[index].reshape(28,28))\n",
        "plt.gray()"
      ],
      "metadata": {
        "colab": {
          "base_uri": "https://localhost:8080/",
          "height": 430
        },
        "id": "SmOWd9Ir82zL",
        "outputId": "6792ddde-7a12-4cbc-f473-07df0d68e513"
      },
      "execution_count": 9,
      "outputs": [
        {
          "output_type": "display_data",
          "data": {
            "text/plain": [
              "<Figure size 640x480 with 1 Axes>"
            ],
            "image/png": "[encoded data removed]"
          },
          "metadata": {}
        }
      ]
    },
    {
      "cell_type": "code",
      "source": [
        "# visualize compressed image\n",
        "plt.imshow(pred[index].reshape(28,28))\n",
        "plt.gray()"
      ],
      "metadata": {
        "colab": {
          "base_uri": "https://localhost:8080/",
          "height": 430
        },
        "id": "MCmws5HX87Mm",
        "outputId": "2423041a-d822-47e4-e577-139f8957f0ab"
      },
      "execution_count": 10,
      "outputs": [
        {
          "output_type": "display_data",
          "data": {
            "text/plain": [
              "<Figure size 640x480 with 1 Axes>"
            ],
            "image/png": "[encoded data removed]"
          },
          "metadata": {}
        }
      ]
    },
    {
      "cell_type": "code",
      "source": [
        "index = np.random.randint(len(x_test))\n",
        "plt.figure(figsize=(10, 4))\n",
        "# display original image\n",
        "ax = plt.subplot(1, 2, 1)\n",
        "plt.imshow(x_test[index].reshape(28,28))\n",
        "plt.gray()\n",
        "ax.get_xaxis().set_visible(False)\n",
        "ax.get_yaxis().set_visible(False)\n",
        "# display compressed image\n",
        "ax = plt.subplot(1, 2, 2)\n",
        "plt.imshow(pred[index].reshape(28,28))\n",
        "plt.gray()\n",
        "ax.get_xaxis().set_visible(False)\n",
        "ax.get_yaxis().set_visible(False)\n",
        "plt.show()"
      ],
      "metadata": {
        "colab": {
          "base_uri": "https://localhost:8080/",
          "height": 345
        },
        "id": "uzTIwFNc8_qH",
        "outputId": "e95ef4ad-45f4-4008-bfb3-2ef3de7c95fb"
      },
      "execution_count": 11,
      "outputs": [
        {
          "output_type": "display_data",
          "data": {
            "text/plain": [
              "<Figure size 1000x400 with 2 Axes>"
            ],
            "image/png": "[encoded data removed]"
          },
          "metadata": {}
        }
      ]
    },
    {
      "cell_type": "code",
      "source": [
        "index = np.random.randint(len(x_test))\n",
        "plt.figure(figsize=(10, 4))\n",
        "# display original image\n",
        "ax = plt.subplot(1, 2, 1)\n",
        "plt.imshow(x_test[index].reshape(28,28))\n",
        "plt.gray()\n",
        "ax.get_xaxis().set_visible(False)\n",
        "ax.get_yaxis().set_visible(False)\n",
        "# display compressed image\n",
        "ax = plt.subplot(1, 2, 2)\n",
        "plt.imshow(pred[index].reshape(28,28))\n",
        "plt.gray()\n",
        "ax.get_xaxis().set_visible(False)\n",
        "ax.get_yaxis().set_visible(False)\n",
        "plt.show()"
      ],
      "metadata": {
        "colab": {
          "base_uri": "https://localhost:8080/",
          "height": 345
        },
        "id": "WNCnWY1r9DnH",
        "outputId": "a09e2412-d04f-441d-f271-f9afdd80a783"
      },
      "execution_count": 12,
      "outputs": [
        {
          "output_type": "display_data",
          "data": {
            "text/plain": [
              "<Figure size 1000x400 with 2 Axes>"
            ],
            "image/png": "[encoded data removed]"
          },
          "metadata": {}
        }
      ]
    }
  ]
}